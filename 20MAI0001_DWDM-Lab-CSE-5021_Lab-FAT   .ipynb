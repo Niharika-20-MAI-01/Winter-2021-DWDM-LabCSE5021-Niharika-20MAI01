{
 "cells": [
  {
   "cell_type": "markdown",
   "metadata": {},
   "source": [
    "# DWDM-Lab-CSE-5021_Lab-FAT:- Implementation of Web Scrapping for information extraction on the 'WikipediA' Webpage on CLUSTERING ALGORITHM\n",
    "\n",
    "Submitted By: 20MAI0001 - NIHARIKA MAITRA\n",
    "\n",
    "To find the Input data and the .ipynb file used for this Assignment please visit :\n",
    "\n",
    "Link for Input data / Web Page Link on which Web Scrapping is implented : https://en.wikipedia.org/wiki/Cluster_analysis\n"
   ]
  },
  {
   "cell_type": "code",
   "execution_count": null,
   "metadata": {},
   "outputs": [],
   "source": []
  },
  {
   "cell_type": "code",
   "execution_count": 130,
   "metadata": {},
   "outputs": [],
   "source": [
    "#Importing necessary Libraries\n",
    "import pandas as pd\n",
    "import numpy as np\n",
    "import matplotlib.pyplot as plt\n",
    "import seaborn as sns\n",
    "%matplotlib inline\n",
    "import re\n",
    "import time\n",
    "from datetime import datetime\n",
    "import matplotlib.dates as mdates\n",
    "import matplotlib.ticker as ticker"
   ]
  },
  {
   "cell_type": "markdown",
   "metadata": {},
   "source": [
    "Importing 'requests' Python library to download the desired (Input) WikipediA WebPage"
   ]
  },
  {
   "cell_type": "code",
   "execution_count": 131,
   "metadata": {},
   "outputs": [
    {
     "data": {
      "text/plain": [
       "<Response [200]>"
      ]
     },
     "execution_count": 131,
     "metadata": {},
     "output_type": "execute_result"
    }
   ],
   "source": [
    "from urllib.request import urlopen\n",
    "import requests\n",
    "\n",
    "page = requests.get(\"https://en.wikipedia.org/wiki/Cluster_analysis\")\n",
    "\n",
    "page\n"
   ]
  },
  {
   "cell_type": "markdown",
   "metadata": {},
   "source": [
    "After running requests.get(), a Response object is obtained.\n",
    "\n",
    "This object has a status_code property, which indicates if the page was downloaded successfully or not :\n"
   ]
  },
  {
   "cell_type": "code",
   "execution_count": 132,
   "metadata": {},
   "outputs": [
    {
     "data": {
      "text/plain": [
       "200"
      ]
     },
     "execution_count": 132,
     "metadata": {},
     "output_type": "execute_result"
    }
   ],
   "source": [
    "page.status_code"
   ]
  },
  {
   "cell_type": "markdown",
   "metadata": {},
   "source": [
    "To Import and use the 'BeautifulSoup' python library to parse the HTML document, corresponding to the WikipediA Webpage being scrapped, downloaded/obtained through using 'requests' and to extract the text"
   ]
  },
  {
   "cell_type": "code",
   "execution_count": 133,
   "metadata": {},
   "outputs": [],
   "source": [
    "from bs4 import BeautifulSoup"
   ]
  },
  {
   "cell_type": "markdown",
   "metadata": {},
   "source": [
    "To create an instance of the BeautifulSoup class : 'soup_wb' to parse the HTML document corresponding to the WikipediA Webpage being Scraped :"
   ]
  },
  {
   "cell_type": "code",
   "execution_count": 134,
   "metadata": {},
   "outputs": [],
   "source": [
    "soup_wb = BeautifulSoup(page.content, 'html.parser')"
   ]
  },
  {
   "cell_type": "markdown",
   "metadata": {},
   "source": [
    "To check the type of each element in the list :"
   ]
  },
  {
   "cell_type": "code",
   "execution_count": 135,
   "metadata": {},
   "outputs": [
    {
     "data": {
      "text/plain": [
       "[bs4.element.Doctype, bs4.element.NavigableString, bs4.element.Tag]"
      ]
     },
     "execution_count": 135,
     "metadata": {},
     "output_type": "execute_result"
    }
   ],
   "source": [
    "[type(item) for item in list(soup_wb.children)]"
   ]
  },
  {
   "cell_type": "code",
   "execution_count": null,
   "metadata": {},
   "outputs": [],
   "source": []
  },
  {
   "cell_type": "markdown",
   "metadata": {},
   "source": [
    "# Extracting /Pulling important information using :Beautiful Soup’s find() and find_all() methods, from the 3 tables :\n",
    "\n",
    "A) \"Connectivity-based clustering (hierarchical clustering)\"\n",
    "\n",
    "B) \"Centroid-based clustering\"\n",
    "\n",
    "C) \"Distribution-based clustering\"\n",
    "\n",
    "D) \"Density-based clustering\"\n",
    "of the WikipediA WebPage on CLUSTERING ALGORITHM :\n"
   ]
  },
  {
   "cell_type": "code",
   "execution_count": null,
   "metadata": {},
   "outputs": [],
   "source": []
  },
  {
   "cell_type": "code",
   "execution_count": 136,
   "metadata": {},
   "outputs": [],
   "source": [
    "#img_tags = soup_wb.find_all('img')\n",
    "#img_tags\n",
    "div_tags = soup_wb.find_all('div')\n",
    "#div_tags"
   ]
  },
  {
   "cell_type": "code",
   "execution_count": 137,
   "metadata": {},
   "outputs": [
    {
     "data": {
      "text/plain": [
       "[<div class=\"thumb tright\"><div class=\"thumbinner\" style=\"width:222px;\"><a class=\"image\" href=\"/wiki/File:Cluster-2.svg\"><img alt=\"\" class=\"thumbimage\" data-file-height=\"402\" data-file-width=\"601\" decoding=\"async\" height=\"147\" src=\"//upload.wikimedia.org/wikipedia/commons/thumb/c/c8/Cluster-2.svg/220px-Cluster-2.svg.png\" srcset=\"//upload.wikimedia.org/wikipedia/commons/thumb/c/c8/Cluster-2.svg/330px-Cluster-2.svg.png 1.5x, //upload.wikimedia.org/wikipedia/commons/thumb/c/c8/Cluster-2.svg/440px-Cluster-2.svg.png 2x\" width=\"220\"/></a> <div class=\"thumbcaption\"><div class=\"magnify\"><a class=\"internal\" href=\"/wiki/File:Cluster-2.svg\" title=\"Enlarge\"></a></div>The result of a cluster analysis shown as the coloring of the squares into three clusters.</div></div></div>,\n",
       " <div class=\"thumb\" style=\"width: 230px;\"><div style=\"margin:15px auto;\"><a class=\"image\" href=\"/wiki/File:SLINK-Gaussian-data.svg\"><img alt=\"\" data-file-height=\"467\" data-file-width=\"434\" decoding=\"async\" height=\"200\" src=\"//upload.wikimedia.org/wikipedia/commons/thumb/b/b7/SLINK-Gaussian-data.svg/186px-SLINK-Gaussian-data.svg.png\" srcset=\"//upload.wikimedia.org/wikipedia/commons/thumb/b/b7/SLINK-Gaussian-data.svg/279px-SLINK-Gaussian-data.svg.png 1.5x, //upload.wikimedia.org/wikipedia/commons/thumb/b/b7/SLINK-Gaussian-data.svg/372px-SLINK-Gaussian-data.svg.png 2x\" width=\"186\"/></a></div></div>,\n",
       " <div class=\"thumb\" style=\"width: 230px;\"><div style=\"margin:15px auto;\"><a class=\"image\" href=\"/wiki/File:SLINK-density-data.svg\"><img alt=\"\" data-file-height=\"467\" data-file-width=\"434\" decoding=\"async\" height=\"200\" src=\"//upload.wikimedia.org/wikipedia/commons/thumb/f/f2/SLINK-density-data.svg/186px-SLINK-density-data.svg.png\" srcset=\"//upload.wikimedia.org/wikipedia/commons/thumb/f/f2/SLINK-density-data.svg/279px-SLINK-density-data.svg.png 1.5x, //upload.wikimedia.org/wikipedia/commons/thumb/f/f2/SLINK-density-data.svg/372px-SLINK-density-data.svg.png 2x\" width=\"186\"/></a></div></div>,\n",
       " <div class=\"thumb\" style=\"width: 230px;\"><div style=\"margin:15px auto;\"><a class=\"image\" href=\"/wiki/File:KMeans-Gaussian-data.svg\"><img alt=\"\" data-file-height=\"467\" data-file-width=\"434\" decoding=\"async\" height=\"200\" src=\"//upload.wikimedia.org/wikipedia/commons/thumb/e/e5/KMeans-Gaussian-data.svg/186px-KMeans-Gaussian-data.svg.png\" srcset=\"//upload.wikimedia.org/wikipedia/commons/thumb/e/e5/KMeans-Gaussian-data.svg/279px-KMeans-Gaussian-data.svg.png 1.5x, //upload.wikimedia.org/wikipedia/commons/thumb/e/e5/KMeans-Gaussian-data.svg/372px-KMeans-Gaussian-data.svg.png 2x\" width=\"186\"/></a></div></div>,\n",
       " <div class=\"thumb\" style=\"width: 230px;\"><div style=\"margin:15px auto;\"><a class=\"image\" href=\"/wiki/File:KMeans-density-data.svg\"><img alt=\"\" data-file-height=\"347\" data-file-width=\"345\" decoding=\"async\" height=\"200\" src=\"//upload.wikimedia.org/wikipedia/commons/thumb/d/d1/KMeans-density-data.svg/199px-KMeans-density-data.svg.png\" srcset=\"//upload.wikimedia.org/wikipedia/commons/thumb/d/d1/KMeans-density-data.svg/298px-KMeans-density-data.svg.png 1.5x, //upload.wikimedia.org/wikipedia/commons/thumb/d/d1/KMeans-density-data.svg/398px-KMeans-density-data.svg.png 2x\" width=\"199\"/></a></div></div>,\n",
       " <div class=\"thumb\" style=\"width: 230px;\"><div style=\"margin:15px auto;\"><a class=\"image\" href=\"/wiki/File:EM-Gaussian-data.svg\"><img alt=\"\" data-file-height=\"467\" data-file-width=\"434\" decoding=\"async\" height=\"200\" src=\"//upload.wikimedia.org/wikipedia/commons/thumb/d/d8/EM-Gaussian-data.svg/186px-EM-Gaussian-data.svg.png\" srcset=\"//upload.wikimedia.org/wikipedia/commons/thumb/d/d8/EM-Gaussian-data.svg/279px-EM-Gaussian-data.svg.png 1.5x, //upload.wikimedia.org/wikipedia/commons/thumb/d/d8/EM-Gaussian-data.svg/372px-EM-Gaussian-data.svg.png 2x\" width=\"186\"/></a></div></div>,\n",
       " <div class=\"thumb\" style=\"width: 230px;\"><div style=\"margin:15px auto;\"><a class=\"image\" href=\"/wiki/File:EM-density-data.svg\"><img alt=\"\" data-file-height=\"467\" data-file-width=\"434\" decoding=\"async\" height=\"200\" src=\"//upload.wikimedia.org/wikipedia/commons/thumb/4/4c/EM-density-data.svg/186px-EM-density-data.svg.png\" srcset=\"//upload.wikimedia.org/wikipedia/commons/thumb/4/4c/EM-density-data.svg/279px-EM-density-data.svg.png 1.5x, //upload.wikimedia.org/wikipedia/commons/thumb/4/4c/EM-density-data.svg/372px-EM-density-data.svg.png 2x\" width=\"186\"/></a></div></div>,\n",
       " <div class=\"thumb\" style=\"width: 230px;\"><div style=\"margin:15px auto;\"><a class=\"image\" href=\"/wiki/File:DBSCAN-density-data.svg\"><img alt=\"\" data-file-height=\"322\" data-file-width=\"320\" decoding=\"async\" height=\"200\" src=\"//upload.wikimedia.org/wikipedia/commons/thumb/0/05/DBSCAN-density-data.svg/199px-DBSCAN-density-data.svg.png\" srcset=\"//upload.wikimedia.org/wikipedia/commons/thumb/0/05/DBSCAN-density-data.svg/298px-DBSCAN-density-data.svg.png 1.5x, //upload.wikimedia.org/wikipedia/commons/thumb/0/05/DBSCAN-density-data.svg/398px-DBSCAN-density-data.svg.png 2x\" width=\"199\"/></a></div></div>,\n",
       " <div class=\"thumb\" style=\"width: 230px;\"><div style=\"margin:15px auto;\"><a class=\"image\" href=\"/wiki/File:DBSCAN-Gaussian-data.svg\"><img alt=\"\" data-file-height=\"467\" data-file-width=\"434\" decoding=\"async\" height=\"200\" src=\"//upload.wikimedia.org/wikipedia/commons/thumb/2/28/DBSCAN-Gaussian-data.svg/186px-DBSCAN-Gaussian-data.svg.png\" srcset=\"//upload.wikimedia.org/wikipedia/commons/thumb/2/28/DBSCAN-Gaussian-data.svg/279px-DBSCAN-Gaussian-data.svg.png 1.5x, //upload.wikimedia.org/wikipedia/commons/thumb/2/28/DBSCAN-Gaussian-data.svg/372px-DBSCAN-Gaussian-data.svg.png 2x\" width=\"186\"/></a></div></div>,\n",
       " <div class=\"thumb\" style=\"width: 230px;\"><div style=\"margin:15px auto;\"><a class=\"image\" href=\"/wiki/File:OPTICS-Gaussian-data.svg\"><img alt=\"\" data-file-height=\"467\" data-file-width=\"434\" decoding=\"async\" height=\"200\" src=\"//upload.wikimedia.org/wikipedia/commons/thumb/8/8a/OPTICS-Gaussian-data.svg/186px-OPTICS-Gaussian-data.svg.png\" srcset=\"//upload.wikimedia.org/wikipedia/commons/thumb/8/8a/OPTICS-Gaussian-data.svg/279px-OPTICS-Gaussian-data.svg.png 1.5x, //upload.wikimedia.org/wikipedia/commons/thumb/8/8a/OPTICS-Gaussian-data.svg/372px-OPTICS-Gaussian-data.svg.png 2x\" width=\"186\"/></a></div></div>]"
      ]
     },
     "execution_count": 137,
     "metadata": {},
     "output_type": "execute_result"
    }
   ],
   "source": [
    "soup_wb.find_all('div', class_='thumb')"
   ]
  },
  {
   "cell_type": "code",
   "execution_count": 138,
   "metadata": {},
   "outputs": [
    {
     "data": {
      "text/plain": [
       "[<div class=\"thumb tright\"><div class=\"thumbinner\" style=\"width:222px;\"><a class=\"image\" href=\"/wiki/File:Cluster-2.svg\"><img alt=\"\" class=\"thumbimage\" data-file-height=\"402\" data-file-width=\"601\" decoding=\"async\" height=\"147\" src=\"//upload.wikimedia.org/wikipedia/commons/thumb/c/c8/Cluster-2.svg/220px-Cluster-2.svg.png\" srcset=\"//upload.wikimedia.org/wikipedia/commons/thumb/c/c8/Cluster-2.svg/330px-Cluster-2.svg.png 1.5x, //upload.wikimedia.org/wikipedia/commons/thumb/c/c8/Cluster-2.svg/440px-Cluster-2.svg.png 2x\" width=\"220\"/></a> <div class=\"thumbcaption\"><div class=\"magnify\"><a class=\"internal\" href=\"/wiki/File:Cluster-2.svg\" title=\"Enlarge\"></a></div>The result of a cluster analysis shown as the coloring of the squares into three clusters.</div></div></div>,\n",
       " <div class=\"thumb\" style=\"width: 230px;\"><div style=\"margin:15px auto;\"><a class=\"image\" href=\"/wiki/File:SLINK-Gaussian-data.svg\"><img alt=\"\" data-file-height=\"467\" data-file-width=\"434\" decoding=\"async\" height=\"200\" src=\"//upload.wikimedia.org/wikipedia/commons/thumb/b/b7/SLINK-Gaussian-data.svg/186px-SLINK-Gaussian-data.svg.png\" srcset=\"//upload.wikimedia.org/wikipedia/commons/thumb/b/b7/SLINK-Gaussian-data.svg/279px-SLINK-Gaussian-data.svg.png 1.5x, //upload.wikimedia.org/wikipedia/commons/thumb/b/b7/SLINK-Gaussian-data.svg/372px-SLINK-Gaussian-data.svg.png 2x\" width=\"186\"/></a></div></div>,\n",
       " <div class=\"thumb\" style=\"width: 230px;\"><div style=\"margin:15px auto;\"><a class=\"image\" href=\"/wiki/File:SLINK-density-data.svg\"><img alt=\"\" data-file-height=\"467\" data-file-width=\"434\" decoding=\"async\" height=\"200\" src=\"//upload.wikimedia.org/wikipedia/commons/thumb/f/f2/SLINK-density-data.svg/186px-SLINK-density-data.svg.png\" srcset=\"//upload.wikimedia.org/wikipedia/commons/thumb/f/f2/SLINK-density-data.svg/279px-SLINK-density-data.svg.png 1.5x, //upload.wikimedia.org/wikipedia/commons/thumb/f/f2/SLINK-density-data.svg/372px-SLINK-density-data.svg.png 2x\" width=\"186\"/></a></div></div>,\n",
       " <div class=\"thumb\" style=\"width: 230px;\"><div style=\"margin:15px auto;\"><a class=\"image\" href=\"/wiki/File:KMeans-Gaussian-data.svg\"><img alt=\"\" data-file-height=\"467\" data-file-width=\"434\" decoding=\"async\" height=\"200\" src=\"//upload.wikimedia.org/wikipedia/commons/thumb/e/e5/KMeans-Gaussian-data.svg/186px-KMeans-Gaussian-data.svg.png\" srcset=\"//upload.wikimedia.org/wikipedia/commons/thumb/e/e5/KMeans-Gaussian-data.svg/279px-KMeans-Gaussian-data.svg.png 1.5x, //upload.wikimedia.org/wikipedia/commons/thumb/e/e5/KMeans-Gaussian-data.svg/372px-KMeans-Gaussian-data.svg.png 2x\" width=\"186\"/></a></div></div>,\n",
       " <div class=\"thumb\" style=\"width: 230px;\"><div style=\"margin:15px auto;\"><a class=\"image\" href=\"/wiki/File:KMeans-density-data.svg\"><img alt=\"\" data-file-height=\"347\" data-file-width=\"345\" decoding=\"async\" height=\"200\" src=\"//upload.wikimedia.org/wikipedia/commons/thumb/d/d1/KMeans-density-data.svg/199px-KMeans-density-data.svg.png\" srcset=\"//upload.wikimedia.org/wikipedia/commons/thumb/d/d1/KMeans-density-data.svg/298px-KMeans-density-data.svg.png 1.5x, //upload.wikimedia.org/wikipedia/commons/thumb/d/d1/KMeans-density-data.svg/398px-KMeans-density-data.svg.png 2x\" width=\"199\"/></a></div></div>,\n",
       " <div class=\"thumb\" style=\"width: 230px;\"><div style=\"margin:15px auto;\"><a class=\"image\" href=\"/wiki/File:EM-Gaussian-data.svg\"><img alt=\"\" data-file-height=\"467\" data-file-width=\"434\" decoding=\"async\" height=\"200\" src=\"//upload.wikimedia.org/wikipedia/commons/thumb/d/d8/EM-Gaussian-data.svg/186px-EM-Gaussian-data.svg.png\" srcset=\"//upload.wikimedia.org/wikipedia/commons/thumb/d/d8/EM-Gaussian-data.svg/279px-EM-Gaussian-data.svg.png 1.5x, //upload.wikimedia.org/wikipedia/commons/thumb/d/d8/EM-Gaussian-data.svg/372px-EM-Gaussian-data.svg.png 2x\" width=\"186\"/></a></div></div>,\n",
       " <div class=\"thumb\" style=\"width: 230px;\"><div style=\"margin:15px auto;\"><a class=\"image\" href=\"/wiki/File:EM-density-data.svg\"><img alt=\"\" data-file-height=\"467\" data-file-width=\"434\" decoding=\"async\" height=\"200\" src=\"//upload.wikimedia.org/wikipedia/commons/thumb/4/4c/EM-density-data.svg/186px-EM-density-data.svg.png\" srcset=\"//upload.wikimedia.org/wikipedia/commons/thumb/4/4c/EM-density-data.svg/279px-EM-density-data.svg.png 1.5x, //upload.wikimedia.org/wikipedia/commons/thumb/4/4c/EM-density-data.svg/372px-EM-density-data.svg.png 2x\" width=\"186\"/></a></div></div>,\n",
       " <div class=\"thumb\" style=\"width: 230px;\"><div style=\"margin:15px auto;\"><a class=\"image\" href=\"/wiki/File:DBSCAN-density-data.svg\"><img alt=\"\" data-file-height=\"322\" data-file-width=\"320\" decoding=\"async\" height=\"200\" src=\"//upload.wikimedia.org/wikipedia/commons/thumb/0/05/DBSCAN-density-data.svg/199px-DBSCAN-density-data.svg.png\" srcset=\"//upload.wikimedia.org/wikipedia/commons/thumb/0/05/DBSCAN-density-data.svg/298px-DBSCAN-density-data.svg.png 1.5x, //upload.wikimedia.org/wikipedia/commons/thumb/0/05/DBSCAN-density-data.svg/398px-DBSCAN-density-data.svg.png 2x\" width=\"199\"/></a></div></div>,\n",
       " <div class=\"thumb\" style=\"width: 230px;\"><div style=\"margin:15px auto;\"><a class=\"image\" href=\"/wiki/File:DBSCAN-Gaussian-data.svg\"><img alt=\"\" data-file-height=\"467\" data-file-width=\"434\" decoding=\"async\" height=\"200\" src=\"//upload.wikimedia.org/wikipedia/commons/thumb/2/28/DBSCAN-Gaussian-data.svg/186px-DBSCAN-Gaussian-data.svg.png\" srcset=\"//upload.wikimedia.org/wikipedia/commons/thumb/2/28/DBSCAN-Gaussian-data.svg/279px-DBSCAN-Gaussian-data.svg.png 1.5x, //upload.wikimedia.org/wikipedia/commons/thumb/2/28/DBSCAN-Gaussian-data.svg/372px-DBSCAN-Gaussian-data.svg.png 2x\" width=\"186\"/></a></div></div>,\n",
       " <div class=\"thumb\" style=\"width: 230px;\"><div style=\"margin:15px auto;\"><a class=\"image\" href=\"/wiki/File:OPTICS-Gaussian-data.svg\"><img alt=\"\" data-file-height=\"467\" data-file-width=\"434\" decoding=\"async\" height=\"200\" src=\"//upload.wikimedia.org/wikipedia/commons/thumb/8/8a/OPTICS-Gaussian-data.svg/186px-OPTICS-Gaussian-data.svg.png\" srcset=\"//upload.wikimedia.org/wikipedia/commons/thumb/8/8a/OPTICS-Gaussian-data.svg/279px-OPTICS-Gaussian-data.svg.png 1.5x, //upload.wikimedia.org/wikipedia/commons/thumb/8/8a/OPTICS-Gaussian-data.svg/372px-OPTICS-Gaussian-data.svg.png 2x\" width=\"186\"/></a></div></div>]"
      ]
     },
     "execution_count": 138,
     "metadata": {},
     "output_type": "execute_result"
    }
   ],
   "source": [
    "#Element table2 = table.get(1)\n",
    "image = soup_wb.findAll('div',{'class':'thumb'})\n",
    "image\n"
   ]
  },
  {
   "cell_type": "code",
   "execution_count": 139,
   "metadata": {},
   "outputs": [],
   "source": [
    "img = soup_wb.findAll('img')\n",
    "#img"
   ]
  },
  {
   "cell_type": "code",
   "execution_count": 140,
   "metadata": {},
   "outputs": [
    {
     "name": "stdout",
     "output_type": "stream",
     "text": [
      "//upload.wikimedia.org/wikipedia/commons/thumb/c/c8/Cluster-2.svg/220px-Cluster-2.svg.png\n",
      "https://wikimedia.org/api/rest_v1/media/math/render/svg/ff78e74de3bf7a5246829c66bc5acf0c2a94b67c\n",
      "https://wikimedia.org/api/rest_v1/media/math/render/svg/309e446c28aed3412bfeb2108eb3ae9ed8245d6c\n",
      "https://wikimedia.org/api/rest_v1/media/math/render/svg/4441d9689c0e6b2c47994e2f587ac5378faeefba\n",
      "//upload.wikimedia.org/wikipedia/commons/thumb/b/b7/SLINK-Gaussian-data.svg/186px-SLINK-Gaussian-data.svg.png\n",
      "//upload.wikimedia.org/wikipedia/commons/thumb/f/f2/SLINK-density-data.svg/186px-SLINK-density-data.svg.png\n",
      "//upload.wikimedia.org/wikipedia/commons/thumb/e/e5/KMeans-Gaussian-data.svg/186px-KMeans-Gaussian-data.svg.png\n",
      "//upload.wikimedia.org/wikipedia/commons/thumb/d/d1/KMeans-density-data.svg/199px-KMeans-density-data.svg.png\n",
      "//upload.wikimedia.org/wikipedia/commons/thumb/d/d8/EM-Gaussian-data.svg/186px-EM-Gaussian-data.svg.png\n",
      "//upload.wikimedia.org/wikipedia/commons/thumb/4/4c/EM-density-data.svg/186px-EM-density-data.svg.png\n",
      "https://wikimedia.org/api/rest_v1/media/math/render/svg/a30c89172e5b88edbd45d3e2772c7f5e562e5173\n",
      "https://wikimedia.org/api/rest_v1/media/math/render/svg/a30c89172e5b88edbd45d3e2772c7f5e562e5173\n",
      "//upload.wikimedia.org/wikipedia/commons/thumb/0/05/DBSCAN-density-data.svg/199px-DBSCAN-density-data.svg.png\n",
      "//upload.wikimedia.org/wikipedia/commons/thumb/2/28/DBSCAN-Gaussian-data.svg/186px-DBSCAN-Gaussian-data.svg.png\n",
      "//upload.wikimedia.org/wikipedia/commons/thumb/8/8a/OPTICS-Gaussian-data.svg/186px-OPTICS-Gaussian-data.svg.png\n",
      "https://wikimedia.org/api/rest_v1/media/math/render/svg/088c4609673b8a85f7901d9027215bca7f3c71be\n",
      "https://wikimedia.org/api/rest_v1/media/math/render/svg/01acb7953ba52c2aa44264b5d0f8fd223aa178a2\n",
      "https://wikimedia.org/api/rest_v1/media/math/render/svg/add78d8608ad86e54951b8c8bd6c8d8416533d20\n",
      "https://wikimedia.org/api/rest_v1/media/math/render/svg/6ab3208a7d0c634ef720e03ff5a9949e8310edc4\n",
      "https://wikimedia.org/api/rest_v1/media/math/render/svg/add78d8608ad86e54951b8c8bd6c8d8416533d20\n",
      "https://wikimedia.org/api/rest_v1/media/math/render/svg/01acb7953ba52c2aa44264b5d0f8fd223aa178a2\n",
      "https://wikimedia.org/api/rest_v1/media/math/render/svg/7ed8aadd6df55d30f58f08354478a71aec4f40d9\n",
      "https://wikimedia.org/api/rest_v1/media/math/render/svg/01acb7953ba52c2aa44264b5d0f8fd223aa178a2\n",
      "https://wikimedia.org/api/rest_v1/media/math/render/svg/a844d180d176af828d1636d4e85aa534d0b77baa\n",
      "https://wikimedia.org/api/rest_v1/media/math/render/svg/420730949ae2ca35dc53316964f9c054030026ae\n",
      "https://wikimedia.org/api/rest_v1/media/math/render/svg/f82cade9898ced02fdd08712e5f0c0151758a0dd\n",
      "https://wikimedia.org/api/rest_v1/media/math/render/svg/f34a0c600395e5d4345287e21fb26efd386990e6\n",
      "https://wikimedia.org/api/rest_v1/media/math/render/svg/f5e3890c981ae85503089652feb48b191b57aae3\n",
      "https://wikimedia.org/api/rest_v1/media/math/render/svg/6ce692b2f952dca7400b95d70699a6896adeeab8\n",
      "https://wikimedia.org/api/rest_v1/media/math/render/svg/0ec80af7aba3d18700e0c06940c3f277990f95c7\n",
      "https://wikimedia.org/api/rest_v1/media/math/render/svg/d2f2291e501a1c99921208d8d34b5a175731781f\n",
      "https://wikimedia.org/api/rest_v1/media/math/render/svg/fd09d1b81f8d232dcf7bc9dfe5f0d08810aa4b75\n",
      "https://wikimedia.org/api/rest_v1/media/math/render/svg/79879ec9236e6d6a087517c11e2638827c09595a\n",
      "https://wikimedia.org/api/rest_v1/media/math/render/svg/4e1c5b779dac08ca6c5a0bb2cc3d64e8375b5941\n",
      "https://wikimedia.org/api/rest_v1/media/math/render/svg/d2f2291e501a1c99921208d8d34b5a175731781f\n",
      "https://wikimedia.org/api/rest_v1/media/math/render/svg/79879ec9236e6d6a087517c11e2638827c09595a\n",
      "https://wikimedia.org/api/rest_v1/media/math/render/svg/f94a2667918c49c47e98a5c5fb70acc348fbc576\n",
      "https://wikimedia.org/api/rest_v1/media/math/render/svg/78f6fcdda6c164f2e0c8df177d9917a5d0c94214\n",
      "https://wikimedia.org/api/rest_v1/media/math/render/svg/374965799df4b54302f62e443e26c4f28bed0d4f\n",
      "https://wikimedia.org/api/rest_v1/media/math/render/svg/fc8bbe6cd9485c02eb84737170cbb2d0a3fcbd88\n",
      "https://wikimedia.org/api/rest_v1/media/math/render/svg/b4dc73bf40314945ff376bd363916a738548d40a\n",
      "https://wikimedia.org/api/rest_v1/media/math/render/svg/4b0bfb3769bf24d80e15374dc37b0441e2616e33\n",
      "https://wikimedia.org/api/rest_v1/media/math/render/svg/4c73e2dc1bd386bcab8e59dac8b850cbf7d345ac\n",
      "https://wikimedia.org/api/rest_v1/media/math/render/svg/60b5e78663eba7ba08e0dd4915251e6261f4f35c\n",
      "https://wikimedia.org/api/rest_v1/media/math/render/svg/80cde00007f6bf8aa22dc038074468dc29dc8aad\n",
      "https://wikimedia.org/api/rest_v1/media/math/render/svg/60b5e78663eba7ba08e0dd4915251e6261f4f35c\n",
      "https://wikimedia.org/api/rest_v1/media/math/render/svg/7ed48a5e36207156fb792fa79d29925d2f7901e8\n",
      "https://wikimedia.org/api/rest_v1/media/math/render/svg/fd09d1b81f8d232dcf7bc9dfe5f0d08810aa4b75\n",
      "https://wikimedia.org/api/rest_v1/media/math/render/svg/a2c70373ac9a71a49940a816f591bbe35c2aa918\n",
      "https://wikimedia.org/api/rest_v1/media/math/render/svg/fd09d1b81f8d232dcf7bc9dfe5f0d08810aa4b75\n",
      "https://wikimedia.org/api/rest_v1/media/math/render/svg/d2f2291e501a1c99921208d8d34b5a175731781f\n",
      "https://wikimedia.org/api/rest_v1/media/math/render/svg/fd09d1b81f8d232dcf7bc9dfe5f0d08810aa4b75\n",
      "https://wikimedia.org/api/rest_v1/media/math/render/svg/174f40f295f784c6fc6f78d359503821b757a353\n",
      "https://wikimedia.org/api/rest_v1/media/math/render/svg/0397c64b73657216f7df54272cd7ef1f73a1c864\n",
      "https://wikimedia.org/api/rest_v1/media/math/render/svg/d2f2291e501a1c99921208d8d34b5a175731781f\n",
      "https://wikimedia.org/api/rest_v1/media/math/render/svg/79879ec9236e6d6a087517c11e2638827c09595a\n",
      "https://wikimedia.org/api/rest_v1/media/math/render/svg/4e1c5b779dac08ca6c5a0bb2cc3d64e8375b5941\n",
      "https://wikimedia.org/api/rest_v1/media/math/render/svg/1be621ec797984559fcca151cbf33fed409f4ef1\n",
      "https://wikimedia.org/api/rest_v1/media/math/render/svg/b4dc73bf40314945ff376bd363916a738548d40a\n",
      "https://wikimedia.org/api/rest_v1/media/math/render/svg/4b0bfb3769bf24d80e15374dc37b0441e2616e33\n",
      "https://wikimedia.org/api/rest_v1/media/math/render/svg/8c615f6c6d649f468aa611867b86f4eeed49c7ba\n",
      "https://wikimedia.org/api/rest_v1/media/math/render/svg/9e40a5d5e8ef2c20a5802ced82194dff36ee98ed\n",
      "https://wikimedia.org/api/rest_v1/media/math/render/svg/68baa052181f707c662844a465bfeeb135e82bab\n",
      "https://wikimedia.org/api/rest_v1/media/math/render/svg/a601995d55609f2d9f5e233e36fbe9ea26011b3b\n",
      "https://wikimedia.org/api/rest_v1/media/math/render/svg/e85ff03cbe0c7341af6b982e47e9f90d235c66ab\n",
      "https://wikimedia.org/api/rest_v1/media/math/render/svg/691a26b06c3d6d03b77e3f1507fe9fd8ef145924\n",
      "https://wikimedia.org/api/rest_v1/media/math/render/svg/e87000dd6142b81d041896a30fe58f0c3acb2158\n",
      "https://wikimedia.org/api/rest_v1/media/math/render/svg/961d67d6b454b4df2301ac571808a3538b3a6d3f\n",
      "https://wikimedia.org/api/rest_v1/media/math/render/svg/0a07d98bb302f3856cbabc47b2b9016692e3f7bc\n",
      "https://wikimedia.org/api/rest_v1/media/math/render/svg/14f13cb025ff2e136dcbd2fc81ddf965b728e3d7\n",
      "https://wikimedia.org/api/rest_v1/media/math/render/svg/b0717b773e813620a14036f6db3e96a589fb301c\n",
      "https://wikimedia.org/api/rest_v1/media/math/render/svg/fe22f0329d3ecb2e1880d44d191aba0e5475db68\n",
      "https://wikimedia.org/api/rest_v1/media/math/render/svg/b2ea6d0515864dd80d66a0bdc4cc074088a7647f\n",
      "https://wikimedia.org/api/rest_v1/media/math/render/svg/465b3eb8d1577be4c32a8314ab2d572098f8e167\n",
      "//upload.wikimedia.org/wikipedia/en/thumb/9/99/Question_book-new.svg/50px-Question_book-new.svg.png\n",
      "//upload.wikimedia.org/wikipedia/en/thumb/4/4a/Commons-logo.svg/30px-Commons-logo.svg.png\n",
      "//upload.wikimedia.org/wikipedia/commons/thumb/b/b5/DNC_training_recall_task.gif/200px-DNC_training_recall_task.gif\n",
      "//upload.wikimedia.org/wikipedia/en/thumb/e/e2/Symbol_portal_class.svg/16px-Symbol_portal_class.svg.png\n",
      "//upload.wikimedia.org/wikipedia/en/thumb/9/96/Symbol_category_class.svg/16px-Symbol_category_class.svg.png\n",
      "//upload.wikimedia.org/wikipedia/en/thumb/9/96/Symbol_category_class.svg/16px-Symbol_category_class.svg.png\n",
      "//upload.wikimedia.org/wikipedia/commons/thumb/3/3e/Nuvola_apps_edu_mathematics_blue-p.svg/28px-Nuvola_apps_edu_mathematics_blue-p.svg.png\n",
      "//upload.wikimedia.org/wikipedia/en/thumb/4/4a/Commons-logo.svg/12px-Commons-logo.svg.png\n",
      "//upload.wikimedia.org/wikipedia/commons/thumb/3/37/People_icon.svg/16px-People_icon.svg.png\n",
      "//en.wikipedia.org/wiki/Special:CentralAutoLogin/start?type=1x1\n",
      "/static/images/footer/wikimedia-button.png\n",
      "/static/images/footer/poweredby_mediawiki_88x31.png\n"
     ]
    }
   ],
   "source": [
    "for item in img :\n",
    "    print (item['src'])"
   ]
  },
  {
   "cell_type": "code",
   "execution_count": null,
   "metadata": {},
   "outputs": [],
   "source": []
  },
  {
   "cell_type": "markdown",
   "metadata": {},
   "source": [
    "# Extracting /Pulling important information from the A)Connectivity-based clustering (hierarchical clustering)"
   ]
  },
  {
   "cell_type": "markdown",
   "metadata": {},
   "source": [
    "Linkage clustering examples :Single-linkage on Gaussian data. At 35 clusters, the biggest cluster starts fragmenting into smaller parts, while before it was still connected to the second largest due to the single-link effect."
   ]
  },
  {
   "cell_type": "code",
   "execution_count": 141,
   "metadata": {},
   "outputs": [
    {
     "data": {
      "text/plain": [
       "<img alt=\"\" data-file-height=\"467\" data-file-width=\"434\" decoding=\"async\" height=\"200\" src=\"//upload.wikimedia.org/wikipedia/commons/thumb/b/b7/SLINK-Gaussian-data.svg/186px-SLINK-Gaussian-data.svg.png\" srcset=\"//upload.wikimedia.org/wikipedia/commons/thumb/b/b7/SLINK-Gaussian-data.svg/279px-SLINK-Gaussian-data.svg.png 1.5x, //upload.wikimedia.org/wikipedia/commons/thumb/b/b7/SLINK-Gaussian-data.svg/372px-SLINK-Gaussian-data.svg.png 2x\" width=\"186\"/>"
      ]
     },
     "execution_count": 141,
     "metadata": {},
     "output_type": "execute_result"
    }
   ],
   "source": [
    "for img1 in image:\n",
    "    img1 = image[1].find('img')\n",
    "    \n",
    "#rows2 = table2.find_all('tr', attrs={'style' : ''})\n",
    "#print (img1['src'])\n",
    "img1"
   ]
  },
  {
   "cell_type": "code",
   "execution_count": null,
   "metadata": {},
   "outputs": [],
   "source": []
  },
  {
   "cell_type": "markdown",
   "metadata": {},
   "source": [
    "Single-linkage on density-based clusters. 20 clusters extracted, most of which contain single elements, since linkage clustering does not have a notion of \"noise\"."
   ]
  },
  {
   "cell_type": "code",
   "execution_count": 142,
   "metadata": {},
   "outputs": [
    {
     "data": {
      "text/plain": [
       "<img alt=\"\" data-file-height=\"467\" data-file-width=\"434\" decoding=\"async\" height=\"200\" src=\"//upload.wikimedia.org/wikipedia/commons/thumb/f/f2/SLINK-density-data.svg/186px-SLINK-density-data.svg.png\" srcset=\"//upload.wikimedia.org/wikipedia/commons/thumb/f/f2/SLINK-density-data.svg/279px-SLINK-density-data.svg.png 1.5x, //upload.wikimedia.org/wikipedia/commons/thumb/f/f2/SLINK-density-data.svg/372px-SLINK-density-data.svg.png 2x\" width=\"186\"/>"
      ]
     },
     "execution_count": 142,
     "metadata": {},
     "output_type": "execute_result"
    }
   ],
   "source": [
    "for img2 in image:\n",
    "    img2 = image[2].find('img')\n",
    "    \n",
    "#rows2 = table2.find_all('tr', attrs={'style' : ''})\n",
    "\n",
    "img2"
   ]
  },
  {
   "cell_type": "code",
   "execution_count": null,
   "metadata": {},
   "outputs": [],
   "source": []
  },
  {
   "cell_type": "markdown",
   "metadata": {},
   "source": [
    "# Extracting /Pulling important information from the B) \"Centroid-based clustering\""
   ]
  },
  {
   "cell_type": "markdown",
   "metadata": {},
   "source": [
    "k-means clustering examples :k-means separates data into Voronoi cells, which assumes equal-sized clusters (not adequate here)"
   ]
  },
  {
   "cell_type": "code",
   "execution_count": 143,
   "metadata": {},
   "outputs": [
    {
     "data": {
      "text/plain": [
       "<img alt=\"\" data-file-height=\"467\" data-file-width=\"434\" decoding=\"async\" height=\"200\" src=\"//upload.wikimedia.org/wikipedia/commons/thumb/e/e5/KMeans-Gaussian-data.svg/186px-KMeans-Gaussian-data.svg.png\" srcset=\"//upload.wikimedia.org/wikipedia/commons/thumb/e/e5/KMeans-Gaussian-data.svg/279px-KMeans-Gaussian-data.svg.png 1.5x, //upload.wikimedia.org/wikipedia/commons/thumb/e/e5/KMeans-Gaussian-data.svg/372px-KMeans-Gaussian-data.svg.png 2x\" width=\"186\"/>"
      ]
     },
     "execution_count": 143,
     "metadata": {},
     "output_type": "execute_result"
    }
   ],
   "source": [
    "\n",
    "for img3 in image:\n",
    "    img3 = image[3].find('img')\n",
    "    \n",
    "#rows2 = table2.find_all('tr', attrs={'style' : ''})\n",
    "\n",
    "img3"
   ]
  },
  {
   "cell_type": "code",
   "execution_count": null,
   "metadata": {},
   "outputs": [],
   "source": []
  },
  {
   "cell_type": "markdown",
   "metadata": {},
   "source": [
    "k-means cannot represent density-based clusters"
   ]
  },
  {
   "cell_type": "code",
   "execution_count": 144,
   "metadata": {},
   "outputs": [
    {
     "data": {
      "text/plain": [
       "<img alt=\"\" data-file-height=\"347\" data-file-width=\"345\" decoding=\"async\" height=\"200\" src=\"//upload.wikimedia.org/wikipedia/commons/thumb/d/d1/KMeans-density-data.svg/199px-KMeans-density-data.svg.png\" srcset=\"//upload.wikimedia.org/wikipedia/commons/thumb/d/d1/KMeans-density-data.svg/298px-KMeans-density-data.svg.png 1.5x, //upload.wikimedia.org/wikipedia/commons/thumb/d/d1/KMeans-density-data.svg/398px-KMeans-density-data.svg.png 2x\" width=\"199\"/>"
      ]
     },
     "execution_count": 144,
     "metadata": {},
     "output_type": "execute_result"
    }
   ],
   "source": [
    "for img4 in image:\n",
    "    img4 = image[4].find('img')\n",
    "    \n",
    "#rows2 = table2.find_all('tr', attrs={'style' : ''})\n",
    "\n",
    "img4"
   ]
  },
  {
   "cell_type": "code",
   "execution_count": null,
   "metadata": {},
   "outputs": [],
   "source": []
  },
  {
   "cell_type": "markdown",
   "metadata": {},
   "source": [
    "# Extracting /Pulling important information from the C) \"Distribution-based clustering\""
   ]
  },
  {
   "cell_type": "markdown",
   "metadata": {},
   "source": [
    "Gaussian mixture model clustering examples : On Gaussian-distributed data, EM works well, since it uses Gaussians for modelling clusters"
   ]
  },
  {
   "cell_type": "code",
   "execution_count": 145,
   "metadata": {},
   "outputs": [
    {
     "data": {
      "text/plain": [
       "<img alt=\"\" data-file-height=\"467\" data-file-width=\"434\" decoding=\"async\" height=\"200\" src=\"//upload.wikimedia.org/wikipedia/commons/thumb/d/d8/EM-Gaussian-data.svg/186px-EM-Gaussian-data.svg.png\" srcset=\"//upload.wikimedia.org/wikipedia/commons/thumb/d/d8/EM-Gaussian-data.svg/279px-EM-Gaussian-data.svg.png 1.5x, //upload.wikimedia.org/wikipedia/commons/thumb/d/d8/EM-Gaussian-data.svg/372px-EM-Gaussian-data.svg.png 2x\" width=\"186\"/>"
      ]
     },
     "execution_count": 145,
     "metadata": {},
     "output_type": "execute_result"
    }
   ],
   "source": [
    "\n",
    "for img5 in image:\n",
    "    img5 = image[5].find('img')\n",
    "    \n",
    "#rows2 = table2.find_all('tr', attrs={'style' : ''})\n",
    "\n",
    "img5"
   ]
  },
  {
   "cell_type": "code",
   "execution_count": null,
   "metadata": {},
   "outputs": [],
   "source": []
  },
  {
   "cell_type": "markdown",
   "metadata": {},
   "source": [
    "Density-based clusters cannot be modeled using Gaussian distributions"
   ]
  },
  {
   "cell_type": "code",
   "execution_count": 146,
   "metadata": {},
   "outputs": [
    {
     "data": {
      "text/plain": [
       "<img alt=\"\" data-file-height=\"467\" data-file-width=\"434\" decoding=\"async\" height=\"200\" src=\"//upload.wikimedia.org/wikipedia/commons/thumb/4/4c/EM-density-data.svg/186px-EM-density-data.svg.png\" srcset=\"//upload.wikimedia.org/wikipedia/commons/thumb/4/4c/EM-density-data.svg/279px-EM-density-data.svg.png 1.5x, //upload.wikimedia.org/wikipedia/commons/thumb/4/4c/EM-density-data.svg/372px-EM-density-data.svg.png 2x\" width=\"186\"/>"
      ]
     },
     "execution_count": 146,
     "metadata": {},
     "output_type": "execute_result"
    }
   ],
   "source": [
    "\n",
    "for img6 in image:\n",
    "    img6 = image[6].find('img')\n",
    "    \n",
    "#rows2 = table2.find_all('tr', attrs={'style' : ''})\n",
    "\n",
    "img6"
   ]
  },
  {
   "cell_type": "code",
   "execution_count": null,
   "metadata": {},
   "outputs": [],
   "source": []
  },
  {
   "cell_type": "markdown",
   "metadata": {},
   "source": [
    "# Extracting /Pulling important information from the D) \"Density-based clustering\""
   ]
  },
  {
   "cell_type": "markdown",
   "metadata": {},
   "source": [
    "Density-based clustering examples : Density-based clustering with DBSCAN."
   ]
  },
  {
   "cell_type": "code",
   "execution_count": 147,
   "metadata": {},
   "outputs": [
    {
     "data": {
      "text/plain": [
       "<img alt=\"\" data-file-height=\"322\" data-file-width=\"320\" decoding=\"async\" height=\"200\" src=\"//upload.wikimedia.org/wikipedia/commons/thumb/0/05/DBSCAN-density-data.svg/199px-DBSCAN-density-data.svg.png\" srcset=\"//upload.wikimedia.org/wikipedia/commons/thumb/0/05/DBSCAN-density-data.svg/298px-DBSCAN-density-data.svg.png 1.5x, //upload.wikimedia.org/wikipedia/commons/thumb/0/05/DBSCAN-density-data.svg/398px-DBSCAN-density-data.svg.png 2x\" width=\"199\"/>"
      ]
     },
     "execution_count": 147,
     "metadata": {},
     "output_type": "execute_result"
    }
   ],
   "source": [
    "\n",
    "for img7 in image:\n",
    "    img7 = image[7].find('img')\n",
    "    \n",
    "#rows2 = table2.find_all('tr', attrs={'style' : ''})\n",
    "\n",
    "img7"
   ]
  },
  {
   "cell_type": "code",
   "execution_count": null,
   "metadata": {},
   "outputs": [],
   "source": []
  },
  {
   "cell_type": "markdown",
   "metadata": {},
   "source": [
    "\n",
    "DBSCAN assumes clusters of similar density, and may have problems separating nearby clusters"
   ]
  },
  {
   "cell_type": "code",
   "execution_count": 148,
   "metadata": {},
   "outputs": [
    {
     "data": {
      "text/plain": [
       "<img alt=\"\" data-file-height=\"467\" data-file-width=\"434\" decoding=\"async\" height=\"200\" src=\"//upload.wikimedia.org/wikipedia/commons/thumb/2/28/DBSCAN-Gaussian-data.svg/186px-DBSCAN-Gaussian-data.svg.png\" srcset=\"//upload.wikimedia.org/wikipedia/commons/thumb/2/28/DBSCAN-Gaussian-data.svg/279px-DBSCAN-Gaussian-data.svg.png 1.5x, //upload.wikimedia.org/wikipedia/commons/thumb/2/28/DBSCAN-Gaussian-data.svg/372px-DBSCAN-Gaussian-data.svg.png 2x\" width=\"186\"/>"
      ]
     },
     "execution_count": 148,
     "metadata": {},
     "output_type": "execute_result"
    }
   ],
   "source": [
    "\n",
    "for img8 in image:\n",
    "    img8 = image[8].find('img')\n",
    "    \n",
    "#rows2 = table2.find_all('tr', attrs={'style' : ''})\n",
    "\n",
    "img8"
   ]
  },
  {
   "cell_type": "code",
   "execution_count": null,
   "metadata": {},
   "outputs": [],
   "source": []
  },
  {
   "cell_type": "markdown",
   "metadata": {},
   "source": [
    "OPTICS is a DBSCAN variant, improving handling of different densities clusters"
   ]
  },
  {
   "cell_type": "code",
   "execution_count": 149,
   "metadata": {},
   "outputs": [
    {
     "data": {
      "text/plain": [
       "<img alt=\"\" data-file-height=\"467\" data-file-width=\"434\" decoding=\"async\" height=\"200\" src=\"//upload.wikimedia.org/wikipedia/commons/thumb/8/8a/OPTICS-Gaussian-data.svg/186px-OPTICS-Gaussian-data.svg.png\" srcset=\"//upload.wikimedia.org/wikipedia/commons/thumb/8/8a/OPTICS-Gaussian-data.svg/279px-OPTICS-Gaussian-data.svg.png 1.5x, //upload.wikimedia.org/wikipedia/commons/thumb/8/8a/OPTICS-Gaussian-data.svg/372px-OPTICS-Gaussian-data.svg.png 2x\" width=\"186\"/>"
      ]
     },
     "execution_count": 149,
     "metadata": {},
     "output_type": "execute_result"
    }
   ],
   "source": [
    "\n",
    "for img9 in image:\n",
    "    img9 = image[9].find('img')\n",
    "    \n",
    "#rows2 = table2.find_all('tr', attrs={'style' : ''})\n",
    "\n",
    "img9"
   ]
  },
  {
   "cell_type": "code",
   "execution_count": null,
   "metadata": {},
   "outputs": [],
   "source": []
  },
  {
   "cell_type": "code",
   "execution_count": null,
   "metadata": {},
   "outputs": [],
   "source": []
  }
 ],
 "metadata": {
  "kernelspec": {
   "display_name": "Python 3",
   "language": "python",
   "name": "python3"
  },
  "language_info": {
   "codemirror_mode": {
    "name": "ipython",
    "version": 3
   },
   "file_extension": ".py",
   "mimetype": "text/x-python",
   "name": "python",
   "nbconvert_exporter": "python",
   "pygments_lexer": "ipython3",
   "version": "3.8.5"
  }
 },
 "nbformat": 4,
 "nbformat_minor": 4
}
