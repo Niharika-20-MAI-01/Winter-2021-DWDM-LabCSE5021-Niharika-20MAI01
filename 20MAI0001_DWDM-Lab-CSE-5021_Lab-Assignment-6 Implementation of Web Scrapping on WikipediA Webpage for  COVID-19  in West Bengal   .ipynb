{
 "cells": [
  {
   "cell_type": "markdown",
   "metadata": {},
   "source": [
    "# DWDM-Lab-CSE-5021_Lab-Assignment-6:-  Implementation of Web Scrapping for information extraction on the 'WikipediA' Webpage  about the effect and situation of the COVID-19 pandemic in West Bengal and using PANDAS DataFrame to create csv files from out of the useful important information scraped and extracted from (the tables) of the WikipediA Webpage"
   ]
  },
  {
   "cell_type": "markdown",
   "metadata": {},
   "source": [
    "Submitted By: 20MAI0001 - NIHARIKA MAITRA\n",
    "\n",
    "To find the Input data and the .ipynb file used for this Assignment please visit :\n",
    "\n",
    "Link for Input data / Web Page Link on which Web Scrapping is implented :\n",
    "\n",
    "https://en.wikipedia.org/wiki/COVID-19_pandemic_in_West_Bengal\n",
    "\n",
    "https://en.wikipedia.org/wiki/COVID-19_pandemic_in_West_Bengal\n",
    "\n",
    "Git Repo link: \n",
    "\n",
    "\n",
    "\n",
    "\n",
    "\n",
    "https://github.com/Niharika-20-MAI-01/Winter-2021-DWDM-LabCSE5021-Niharika-20MAI01/blob/main/20MAI0001_DWDM-Lab-CSE-5021_Lab-Assignment-6%20Implementation%20of%20Web%20Scrapping%20on%20WikipediA%20Webpage%20for%20%20COVID-19%20%20in%20West%20Bengal%20%20%20.ipynb\n",
    "\n"
   ]
  },
  {
   "cell_type": "code",
   "execution_count": 543,
   "metadata": {},
   "outputs": [],
   "source": [
    "#Importing necessary Libraries\n",
    "import pandas as pd\n",
    "import numpy as np\n",
    "import matplotlib.pyplot as plt\n",
    "import seaborn as sns\n",
    "%matplotlib inline\n",
    "import re\n",
    "import time\n",
    "from datetime import datetime\n",
    "import matplotlib.dates as mdates\n",
    "import matplotlib.ticker as ticker"
   ]
  },
  {
   "cell_type": "markdown",
   "metadata": {},
   "source": [
    "# Importing 'requests' Python library to download the desired (Input) WikipediA WebPage containing the detailed record of the effect and situation of the COVID-19 pandemic in West Bengal, for implementing Web Scrapping using the requests.get() method:"
   ]
  },
  {
   "cell_type": "code",
   "execution_count": 544,
   "metadata": {},
   "outputs": [
    {
     "data": {
      "text/plain": [
       "<Response [200]>"
      ]
     },
     "execution_count": 544,
     "metadata": {},
     "output_type": "execute_result"
    }
   ],
   "source": [
    "from urllib.request import urlopen\n",
    "import requests\n",
    "\n",
    "page = requests.get(\"https://en.wikipedia.org/wiki/COVID-19_pandemic_in_West_Bengal\")\n",
    "#pg = requests.get(\"https://en.wikipedia.org/wiki/COVID-19_pandemic_in_West_Bengal\")\n",
    "page\n"
   ]
  },
  {
   "cell_type": "markdown",
   "metadata": {},
   "source": [
    "After running requests.get(), a Response object is obtained.\n",
    "\n",
    "This object has a status_code property, which indicates if the page was downloaded successfully or not :\n"
   ]
  },
  {
   "cell_type": "code",
   "execution_count": 545,
   "metadata": {},
   "outputs": [
    {
     "data": {
      "text/plain": [
       "200"
      ]
     },
     "execution_count": 545,
     "metadata": {},
     "output_type": "execute_result"
    }
   ],
   "source": [
    "page.status_code"
   ]
  },
  {
   "cell_type": "markdown",
   "metadata": {},
   "source": [
    "# To Import and use the 'BeautifulSoup' python library to parse the HTML document, corresponding to the WikipediA Webpage being scrapped, downloaded/obtained through using 'requests' and to extract the text from the div tag oh the HTML document:"
   ]
  },
  {
   "cell_type": "code",
   "execution_count": 546,
   "metadata": {},
   "outputs": [],
   "source": [
    "from bs4 import BeautifulSoup"
   ]
  },
  {
   "cell_type": "markdown",
   "metadata": {},
   "source": [
    "To create an instance of the BeautifulSoup class : 'soup_wb' to parse the HTML document corresponding to the WikipediA Webpage being Scraped :"
   ]
  },
  {
   "cell_type": "code",
   "execution_count": 547,
   "metadata": {
    "scrolled": false
   },
   "outputs": [],
   "source": [
    "soup_wb = BeautifulSoup(page.content, 'html.parser')"
   ]
  },
  {
   "cell_type": "code",
   "execution_count": 548,
   "metadata": {},
   "outputs": [],
   "source": [
    "#list(soup_wb.children)"
   ]
  },
  {
   "cell_type": "markdown",
   "metadata": {},
   "source": [
    "To check the type of each element in the list :"
   ]
  },
  {
   "cell_type": "code",
   "execution_count": 549,
   "metadata": {},
   "outputs": [
    {
     "data": {
      "text/plain": [
       "[bs4.element.Doctype, bs4.element.NavigableString, bs4.element.Tag]"
      ]
     },
     "execution_count": 549,
     "metadata": {},
     "output_type": "execute_result"
    }
   ],
   "source": [
    "[type(item) for item in list(soup_wb.children)]"
   ]
  },
  {
   "cell_type": "code",
   "execution_count": null,
   "metadata": {},
   "outputs": [],
   "source": []
  },
  {
   "cell_type": "markdown",
   "metadata": {},
   "source": [
    "# Extracting /Pulling important information using :Beautiful Soup’s find() and find_all() methods, from the 3 tables : \n",
    "\n",
    "A) \"Details of Testing Lab \" \n",
    "\n",
    "B) \"Statistics (Samples Tested)\" \n",
    "\n",
    "C) \"COVID-19 pandemic in West Bengal by district\"\n",
    "\n",
    "of the WikipediA WebPage for COVID-19 in West Bengal :"
   ]
  },
  {
   "cell_type": "code",
   "execution_count": 550,
   "metadata": {},
   "outputs": [],
   "source": [
    "table_tags = soup_wb.find_all('table')\n",
    "#table_tags"
   ]
  },
  {
   "cell_type": "code",
   "execution_count": 551,
   "metadata": {},
   "outputs": [],
   "source": [
    "#Element table2 = table.get(1)\n",
    "table = soup_wb.findAll('table',{'class':'wikitable'})\n",
    "#table"
   ]
  },
  {
   "cell_type": "markdown",
   "metadata": {},
   "source": [
    "# Extracting /Pulling important information from the A) \"Details of Testing Lab\" table of the  WikipediA WebPage for COVID-19 in West Bengal :"
   ]
  },
  {
   "cell_type": "code",
   "execution_count": 552,
   "metadata": {},
   "outputs": [],
   "source": [
    "for tab in table:\n",
    "    rows2 = table[0].find_all('tr')\n",
    "    \n",
    "#rows2 = table2.find_all('tr', attrs={'style' : ''})\n",
    "\n",
    "#rows2"
   ]
  },
  {
   "cell_type": "code",
   "execution_count": 553,
   "metadata": {},
   "outputs": [],
   "source": [
    "data2 = []\n",
    "for i,item in enumerate(rows2):\n",
    "    data2.append(item.text.strip().split(\"\\n\")[:5])\n",
    "\n",
    "#data2\n",
    "    "
   ]
  },
  {
   "cell_type": "code",
   "execution_count": null,
   "metadata": {
    "scrolled": true
   },
   "outputs": [],
   "source": []
  },
  {
   "cell_type": "code",
   "execution_count": 554,
   "metadata": {},
   "outputs": [],
   "source": [
    "import warnings\n",
    "warnings.simplefilter(action='ignore', category=FutureWarning)\n",
    "import dask.dataframe as dd\n",
    "\n",
    "dt2 = pd.DataFrame(data2)\n",
    "\n",
    "dt2 = pd.DataFrame(data2[1:], columns=data2[0][:5]) #Formatting the header\n",
    "df2 = dd.from_pandas(dt2,npartitions=2)"
   ]
  },
  {
   "cell_type": "markdown",
   "metadata": {},
   "source": [
    "# DataFrame Representation of the \"Details of Testing Lab\" table of the WikipediA WebPage for COVID-19 in West Bengal :"
   ]
  },
  {
   "cell_type": "code",
   "execution_count": 555,
   "metadata": {
    "scrolled": true
   },
   "outputs": [
    {
     "data": {
      "text/html": [
       "<div>\n",
       "<style scoped>\n",
       "    .dataframe tbody tr th:only-of-type {\n",
       "        vertical-align: middle;\n",
       "    }\n",
       "\n",
       "    .dataframe tbody tr th {\n",
       "        vertical-align: top;\n",
       "    }\n",
       "\n",
       "    .dataframe thead th {\n",
       "        text-align: right;\n",
       "    }\n",
       "</style>\n",
       "<table border=\"1\" class=\"dataframe\">\n",
       "  <thead>\n",
       "    <tr style=\"text-align: right;\">\n",
       "      <th></th>\n",
       "      <th>Type</th>\n",
       "      <th></th>\n",
       "      <th>Name of Testing Lab</th>\n",
       "      <th></th>\n",
       "      <th>Method</th>\n",
       "    </tr>\n",
       "  </thead>\n",
       "  <tbody>\n",
       "    <tr>\n",
       "      <th>0</th>\n",
       "      <td>Public</td>\n",
       "      <td></td>\n",
       "      <td>National Institute of Cholera and Enteric Dise...</td>\n",
       "      <td></td>\n",
       "      <td>RT-PCR</td>\n",
       "    </tr>\n",
       "    <tr>\n",
       "      <th>1</th>\n",
       "      <td>IPGMER and SSKM Hospital</td>\n",
       "      <td>None</td>\n",
       "      <td>None</td>\n",
       "      <td>None</td>\n",
       "      <td>None</td>\n",
       "    </tr>\n",
       "    <tr>\n",
       "      <th>2</th>\n",
       "      <td>Midnapore Medical College and Hospital</td>\n",
       "      <td>None</td>\n",
       "      <td>None</td>\n",
       "      <td>None</td>\n",
       "      <td>None</td>\n",
       "    </tr>\n",
       "    <tr>\n",
       "      <th>3</th>\n",
       "      <td>North Bengal Medical College and Hospital</td>\n",
       "      <td>None</td>\n",
       "      <td>None</td>\n",
       "      <td>None</td>\n",
       "      <td>None</td>\n",
       "    </tr>\n",
       "    <tr>\n",
       "      <th>4</th>\n",
       "      <td>School of Tropical Medicine</td>\n",
       "      <td>None</td>\n",
       "      <td>None</td>\n",
       "      <td>None</td>\n",
       "      <td>None</td>\n",
       "    </tr>\n",
       "  </tbody>\n",
       "</table>\n",
       "</div>"
      ],
      "text/plain": [
       "                                        Type        \\\n",
       "0                                     Public         \n",
       "1                   IPGMER and SSKM Hospital  None   \n",
       "2     Midnapore Medical College and Hospital  None   \n",
       "3  North Bengal Medical College and Hospital  None   \n",
       "4                School of Tropical Medicine  None   \n",
       "\n",
       "                                 Name of Testing Lab        Method  \n",
       "0  National Institute of Cholera and Enteric Dise...        RT-PCR  \n",
       "1                                               None  None    None  \n",
       "2                                               None  None    None  \n",
       "3                                               None  None    None  \n",
       "4                                               None  None    None  "
      ]
     },
     "execution_count": 555,
     "metadata": {},
     "output_type": "execute_result"
    }
   ],
   "source": [
    "df2.head()"
   ]
  },
  {
   "cell_type": "code",
   "execution_count": null,
   "metadata": {},
   "outputs": [],
   "source": []
  },
  {
   "cell_type": "markdown",
   "metadata": {},
   "source": [
    "# To Store in the form of 'csv' file the extracted  important information from the A) \"Details of Testing Lab\" table of the WikipediA WebPage for COVID-19 in West Bengal after implementing Web Scraping on it : "
   ]
  },
  {
   "cell_type": "code",
   "execution_count": 556,
   "metadata": {},
   "outputs": [
    {
     "data": {
      "text/plain": [
       "['C:/Users/NRika/Documents/DWDM-CSE-5021-LAB-/DWDM_LAB_CSE5021_ASGN-6--Web_Mining/Details_of_Testing_Lab_t1-0.csv',\n",
       " 'C:/Users/NRika/Documents/DWDM-CSE-5021-LAB-/DWDM_LAB_CSE5021_ASGN-6--Web_Mining/Details_of_Testing_Lab_t1-1.csv']"
      ]
     },
     "execution_count": 556,
     "metadata": {},
     "output_type": "execute_result"
    }
   ],
   "source": [
    "df2.to_csv('../DWDM_LAB_CSE5021_ASGN-6--Web_Mining/Details_of_Testing_Lab_t1-*.csv')\n",
    "#csv file name: Details_of_Testing_Lab_t1"
   ]
  },
  {
   "cell_type": "code",
   "execution_count": null,
   "metadata": {},
   "outputs": [],
   "source": [
    "\n"
   ]
  },
  {
   "cell_type": "markdown",
   "metadata": {},
   "source": [
    "# Extracting /Pulling important information from the B) \"Statistics (Samples Tested)\" table of the WikipediA WebPage for COVID-19 in West Bengal :"
   ]
  },
  {
   "cell_type": "code",
   "execution_count": 557,
   "metadata": {},
   "outputs": [],
   "source": [
    "for tab in table:\n",
    "    rows3 = table[1].find_all('tr')\n",
    "    "
   ]
  },
  {
   "cell_type": "code",
   "execution_count": 558,
   "metadata": {},
   "outputs": [
    {
     "data": {
      "text/plain": [
       "[['Samples Tested', '', '1,314,772'],\n",
       " ['Per million population', '', '14,609'],\n",
       " ['Positive cases', '', '116,498'],\n",
       " ['Positive percentage', '', '8.86%'],\n",
       " ['Active cases', '', '27,299'],\n",
       " ['Under quarantine'],\n",
       " ['Institutional quarantine', '', '2,661'],\n",
       " ['Home quarantine', '', '39,731'],\n",
       " ['Recovered', '', '86,771'],\n",
       " ['Recovery rate', '', '74.48%'],\n",
       " ['Deceased', '', '2428'],\n",
       " ['Mortality Rate', '', '2.08%'],\n",
       " ['Data provided by the Health and Family Welfare department as of 16 August 2020.[21]']]"
      ]
     },
     "execution_count": 558,
     "metadata": {},
     "output_type": "execute_result"
    }
   ],
   "source": [
    "data3 = []\n",
    "for i,item in enumerate(rows3):\n",
    "    data3.append(item.text.strip().split(\"\\n\")[:3])\n",
    "\n",
    "data3\n",
    "    "
   ]
  },
  {
   "cell_type": "code",
   "execution_count": null,
   "metadata": {},
   "outputs": [],
   "source": []
  },
  {
   "cell_type": "code",
   "execution_count": 559,
   "metadata": {},
   "outputs": [],
   "source": [
    "import warnings\n",
    "warnings.simplefilter(action='ignore', category=FutureWarning)\n",
    "import dask.dataframe as dd\n",
    "\n",
    "dt3 = pd.DataFrame(data3)\n",
    "\n",
    "dt3 = pd.DataFrame(data3[0:], columns=data3[0][:3]) #Formatting the header\n",
    "df3 = dd.from_pandas(dt3,npartitions=1)\n",
    "\n",
    "#dt3"
   ]
  },
  {
   "cell_type": "markdown",
   "metadata": {},
   "source": [
    "# DataFrame Representation of the \"Statistics (Samples Tested)\" table of the WikipediA WebPage for COVID-19 in West Bengal :"
   ]
  },
  {
   "cell_type": "code",
   "execution_count": 560,
   "metadata": {},
   "outputs": [
    {
     "data": {
      "text/html": [
       "<div>\n",
       "<style scoped>\n",
       "    .dataframe tbody tr th:only-of-type {\n",
       "        vertical-align: middle;\n",
       "    }\n",
       "\n",
       "    .dataframe tbody tr th {\n",
       "        vertical-align: top;\n",
       "    }\n",
       "\n",
       "    .dataframe thead th {\n",
       "        text-align: right;\n",
       "    }\n",
       "</style>\n",
       "<table border=\"1\" class=\"dataframe\">\n",
       "  <thead>\n",
       "    <tr style=\"text-align: right;\">\n",
       "      <th></th>\n",
       "      <th>Samples Tested</th>\n",
       "      <th></th>\n",
       "      <th>1,314,772</th>\n",
       "    </tr>\n",
       "  </thead>\n",
       "  <tbody>\n",
       "    <tr>\n",
       "      <th>0</th>\n",
       "      <td>Samples Tested</td>\n",
       "      <td></td>\n",
       "      <td>1,314,772</td>\n",
       "    </tr>\n",
       "    <tr>\n",
       "      <th>1</th>\n",
       "      <td>Per million population</td>\n",
       "      <td></td>\n",
       "      <td>14,609</td>\n",
       "    </tr>\n",
       "    <tr>\n",
       "      <th>2</th>\n",
       "      <td>Positive cases</td>\n",
       "      <td></td>\n",
       "      <td>116,498</td>\n",
       "    </tr>\n",
       "    <tr>\n",
       "      <th>3</th>\n",
       "      <td>Positive percentage</td>\n",
       "      <td></td>\n",
       "      <td>8.86%</td>\n",
       "    </tr>\n",
       "    <tr>\n",
       "      <th>4</th>\n",
       "      <td>Active cases</td>\n",
       "      <td></td>\n",
       "      <td>27,299</td>\n",
       "    </tr>\n",
       "  </tbody>\n",
       "</table>\n",
       "</div>"
      ],
      "text/plain": [
       "           Samples Tested    1,314,772\n",
       "0          Samples Tested    1,314,772\n",
       "1  Per million population       14,609\n",
       "2          Positive cases      116,498\n",
       "3     Positive percentage        8.86%\n",
       "4            Active cases       27,299"
      ]
     },
     "execution_count": 560,
     "metadata": {},
     "output_type": "execute_result"
    }
   ],
   "source": [
    "dt3.head()"
   ]
  },
  {
   "cell_type": "code",
   "execution_count": null,
   "metadata": {},
   "outputs": [],
   "source": []
  },
  {
   "cell_type": "markdown",
   "metadata": {},
   "source": [
    "# To Store in the form of 'csv' file the extracted important information from the A) \"Statistics (Samples Tested)\" table of the WikipediA WebPage for COVID-19 in West Bengal after implementing Web Scraping on it :"
   ]
  },
  {
   "cell_type": "code",
   "execution_count": 561,
   "metadata": {},
   "outputs": [
    {
     "data": {
      "text/plain": [
       "['C:/Users/NRika/Documents/DWDM-CSE-5021-LAB-/DWDM_LAB_CSE5021_ASGN-6--Web_Mining/Statistics-Samples_Tested-t2-0.csv']"
      ]
     },
     "execution_count": 561,
     "metadata": {},
     "output_type": "execute_result"
    }
   ],
   "source": [
    "df3.to_csv('../DWDM_LAB_CSE5021_ASGN-6--Web_Mining/Statistics-Samples_Tested-t2-*.csv')"
   ]
  },
  {
   "cell_type": "code",
   "execution_count": null,
   "metadata": {},
   "outputs": [],
   "source": []
  },
  {
   "cell_type": "markdown",
   "metadata": {},
   "source": [
    "# Extracting /Pulling important information from the C) \"COVID-19 pandemic in West Bengal by district\" table of the WikipediA WebPage for COVID-19 in West Bengal :"
   ]
  },
  {
   "cell_type": "code",
   "execution_count": 562,
   "metadata": {},
   "outputs": [],
   "source": [
    "for tab in table:\n",
    "    rows4 = table[2].find_all('tr')\n",
    "    "
   ]
  },
  {
   "cell_type": "code",
   "execution_count": 563,
   "metadata": {},
   "outputs": [],
   "source": [
    "data4 = []\n",
    "for i,item in enumerate(rows4):\n",
    "    data4.append(item.text.strip().split(\"\\n\")[:9])\n",
    "\n",
    "#data4\n",
    "    "
   ]
  },
  {
   "cell_type": "code",
   "execution_count": null,
   "metadata": {},
   "outputs": [],
   "source": []
  },
  {
   "cell_type": "code",
   "execution_count": 564,
   "metadata": {},
   "outputs": [],
   "source": [
    "import warnings\n",
    "warnings.simplefilter(action='ignore', category=FutureWarning)\n",
    "import dask.dataframe as dd\n",
    "\n",
    "dt4 = pd.DataFrame(data4)\n",
    "\n",
    "dt4 = pd.DataFrame(data4[2:], columns=data4[1][:9]) #Formatting the header\n",
    "df4 = dd.from_pandas(dt4,npartitions=4)\n",
    "\n",
    "#dt4"
   ]
  },
  {
   "cell_type": "code",
   "execution_count": null,
   "metadata": {},
   "outputs": [],
   "source": []
  },
  {
   "cell_type": "markdown",
   "metadata": {},
   "source": [
    "# DataFrame Representation of the \"COVID-19 pandemic in West Bengal by district\" table of the WikipediA WebPage for COVID-19 in West Bengal :"
   ]
  },
  {
   "cell_type": "code",
   "execution_count": 565,
   "metadata": {},
   "outputs": [
    {
     "data": {
      "text/html": [
       "<div>\n",
       "<style scoped>\n",
       "    .dataframe tbody tr th:only-of-type {\n",
       "        vertical-align: middle;\n",
       "    }\n",
       "\n",
       "    .dataframe tbody tr th {\n",
       "        vertical-align: top;\n",
       "    }\n",
       "\n",
       "    .dataframe thead th {\n",
       "        text-align: right;\n",
       "    }\n",
       "</style>\n",
       "<table border=\"1\" class=\"dataframe\">\n",
       "  <thead>\n",
       "    <tr style=\"text-align: right;\">\n",
       "      <th></th>\n",
       "      <th>District</th>\n",
       "      <th></th>\n",
       "      <th>Total cases</th>\n",
       "      <th></th>\n",
       "      <th>Recoveries</th>\n",
       "      <th></th>\n",
       "      <th>Deaths</th>\n",
       "      <th></th>\n",
       "      <th>Active cases</th>\n",
       "    </tr>\n",
       "  </thead>\n",
       "  <tbody>\n",
       "    <tr>\n",
       "      <th>0</th>\n",
       "      <td>Total</td>\n",
       "      <td></td>\n",
       "      <td>8,80,894</td>\n",
       "      <td></td>\n",
       "      <td>7,49,296</td>\n",
       "      <td></td>\n",
       "      <td>11,637</td>\n",
       "      <td></td>\n",
       "      <td>1,19,961</td>\n",
       "    </tr>\n",
       "    <tr>\n",
       "      <th>1</th>\n",
       "      <td>Alipurduar</td>\n",
       "      <td></td>\n",
       "      <td>8,599</td>\n",
       "      <td></td>\n",
       "      <td>8,003</td>\n",
       "      <td></td>\n",
       "      <td>89</td>\n",
       "      <td></td>\n",
       "      <td>507</td>\n",
       "    </tr>\n",
       "    <tr>\n",
       "      <th>2</th>\n",
       "      <td>Bankura</td>\n",
       "      <td></td>\n",
       "      <td>16,574</td>\n",
       "      <td></td>\n",
       "      <td>14,122</td>\n",
       "      <td></td>\n",
       "      <td>115</td>\n",
       "      <td></td>\n",
       "      <td>2,337</td>\n",
       "    </tr>\n",
       "    <tr>\n",
       "      <th>3</th>\n",
       "      <td>Birbhum</td>\n",
       "      <td></td>\n",
       "      <td>24,447</td>\n",
       "      <td></td>\n",
       "      <td>19,348</td>\n",
       "      <td></td>\n",
       "      <td>137</td>\n",
       "      <td></td>\n",
       "      <td>4,962</td>\n",
       "    </tr>\n",
       "    <tr>\n",
       "      <th>4</th>\n",
       "      <td>Cooch Behar</td>\n",
       "      <td></td>\n",
       "      <td>14,271</td>\n",
       "      <td></td>\n",
       "      <td>12,996</td>\n",
       "      <td></td>\n",
       "      <td>74</td>\n",
       "      <td></td>\n",
       "      <td>1,201</td>\n",
       "    </tr>\n",
       "  </tbody>\n",
       "</table>\n",
       "</div>"
      ],
      "text/plain": [
       "      District   Total cases   Recoveries    Deaths   Active cases\n",
       "0        Total      8,80,894     7,49,296    11,637       1,19,961\n",
       "1   Alipurduar         8,599        8,003        89            507\n",
       "2      Bankura        16,574       14,122       115          2,337\n",
       "3      Birbhum        24,447       19,348       137          4,962\n",
       "4  Cooch Behar        14,271       12,996        74          1,201"
      ]
     },
     "execution_count": 565,
     "metadata": {},
     "output_type": "execute_result"
    }
   ],
   "source": [
    "dt4.head()"
   ]
  },
  {
   "cell_type": "code",
   "execution_count": null,
   "metadata": {},
   "outputs": [],
   "source": []
  },
  {
   "cell_type": "markdown",
   "metadata": {},
   "source": [
    "# To Store in the form of 'csv' file the extracted important information from the A) \"COVID-19 pandemic in West Bengal by district\" table of the WikipediA WebPage for COVID-19 in West Bengal after implementing Web Scraping on it :"
   ]
  },
  {
   "cell_type": "code",
   "execution_count": 566,
   "metadata": {},
   "outputs": [
    {
     "data": {
      "text/plain": [
       "['C:/Users/NRika/Documents/DWDM-CSE-5021-LAB-/DWDM_LAB_CSE5021_ASGN-6--Web_Mining/Statistics-Samples_Tested-t2-0.csv',\n",
       " 'C:/Users/NRika/Documents/DWDM-CSE-5021-LAB-/DWDM_LAB_CSE5021_ASGN-6--Web_Mining/Statistics-Samples_Tested-t2-1.csv',\n",
       " 'C:/Users/NRika/Documents/DWDM-CSE-5021-LAB-/DWDM_LAB_CSE5021_ASGN-6--Web_Mining/Statistics-Samples_Tested-t2-2.csv',\n",
       " 'C:/Users/NRika/Documents/DWDM-CSE-5021-LAB-/DWDM_LAB_CSE5021_ASGN-6--Web_Mining/Statistics-Samples_Tested-t2-3.csv']"
      ]
     },
     "execution_count": 566,
     "metadata": {},
     "output_type": "execute_result"
    }
   ],
   "source": [
    "df4.to_csv('../DWDM_LAB_CSE5021_ASGN-6--Web_Mining/Statistics-Samples_Tested-t2-*.csv')"
   ]
  },
  {
   "cell_type": "code",
   "execution_count": null,
   "metadata": {},
   "outputs": [],
   "source": []
  },
  {
   "cell_type": "code",
   "execution_count": null,
   "metadata": {},
   "outputs": [],
   "source": []
  },
  {
   "cell_type": "code",
   "execution_count": null,
   "metadata": {},
   "outputs": [],
   "source": []
  }
 ],
 "metadata": {
  "kernelspec": {
   "display_name": "Python 3",
   "language": "python",
   "name": "python3"
  },
  "language_info": {
   "codemirror_mode": {
    "name": "ipython",
    "version": 3
   },
   "file_extension": ".py",
   "mimetype": "text/x-python",
   "name": "python",
   "nbconvert_exporter": "python",
   "pygments_lexer": "ipython3",
   "version": "3.8.5"
  }
 },
 "nbformat": 4,
 "nbformat_minor": 4
}
